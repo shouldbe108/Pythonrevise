{
  "nbformat": 4,
  "nbformat_minor": 0,
  "metadata": {
    "colab": {
      "provenance": []
    },
    "kernelspec": {
      "name": "python3",
      "display_name": "Python 3"
    },
    "language_info": {
      "name": "python"
    }
  },
  "cells": [
    {
      "cell_type": "code",
      "execution_count": null,
      "metadata": {
        "colab": {
          "base_uri": "https://localhost:8080/"
        },
        "id": "mCU92NylKg_I",
        "outputId": "bb67d9a4-78c6-46d2-e446-082513b1e074"
      },
      "outputs": [
        {
          "output_type": "stream",
          "name": "stdout",
          "text": [
            "Hello,world!\n"
          ]
        }
      ],
      "source": [
        "print('Hello,world!')"
      ]
    },
    {
      "cell_type": "code",
      "source": [
        "name =\"alice\" #string\n",
        "age = 30 # integer\n",
        "height = 5.5 #float\n",
        "is_student = True #boolean\n",
        "\n",
        "print(\"Name\", name)\n",
        "print('Age', age)\n",
        "print(\"Height\", height)\n",
        "print(\"Is student:\", is_student)"
      ],
      "metadata": {
        "colab": {
          "base_uri": "https://localhost:8080/"
        },
        "id": "NDKaRzNvK-a_",
        "outputId": "2228ea43-844c-4d62-9f7d-8449d1256eee"
      },
      "execution_count": null,
      "outputs": [
        {
          "output_type": "stream",
          "name": "stdout",
          "text": [
            "Name alice\n",
            "Age 30\n",
            "Height 5.5\n",
            "Is student: True\n"
          ]
        }
      ]
    },
    {
      "cell_type": "code",
      "source": [
        "#input\n",
        "user_name = input(\"enter your name:\")\n",
        "user_age= input(\"input your age:\")\n",
        "\n",
        "#display\n",
        "print(\"your name is\", user_name)\n",
        "print(\"your age is\", user_age)"
      ],
      "metadata": {
        "colab": {
          "base_uri": "https://localhost:8080/"
        },
        "id": "_HOyXAuGLY3V",
        "outputId": "b2456e8b-1a52-472f-fff3-0545e0fb9f18"
      },
      "execution_count": null,
      "outputs": [
        {
          "output_type": "stream",
          "name": "stdout",
          "text": [
            "enter your name:lol\n",
            "input your age:44\n",
            "your name is lol\n",
            "your age is 44\n"
          ]
        }
      ]
    },
    {
      "cell_type": "code",
      "source": [
        "#single line comment\n",
        "\"\"\"\n",
        "sdkgjskdbgjksjdbg\n",
        "multiline comment\n",
        "\"\"\"\n",
        "\n"
      ],
      "metadata": {
        "colab": {
          "base_uri": "https://localhost:8080/",
          "height": 36
        },
        "id": "B6OnO7pGMjqn",
        "outputId": "424fc532-0479-442a-b3ad-ff4cad0c3607"
      },
      "execution_count": null,
      "outputs": [
        {
          "output_type": "execute_result",
          "data": {
            "text/plain": [
              "'\\nsdkgjskdbgjksjdbg\\nmultiline comment\\n'"
            ],
            "application/vnd.google.colaboratory.intrinsic+json": {
              "type": "string"
            }
          },
          "metadata": {},
          "execution_count": 6
        }
      ]
    },
    {
      "cell_type": "code",
      "source": [
        "age = int(input(\"enter your age:\")) #convert input to integer\n",
        "\n",
        "#conditional\n",
        "if age<18:\n",
        "  print(\"you are a minor.\")\n",
        "elif age<65:\n",
        "  print(\"adult\")\n",
        "else:\n",
        "  print(\"senior\")\n"
      ],
      "metadata": {
        "colab": {
          "base_uri": "https://localhost:8080/"
        },
        "id": "TCykgJyjM8Xv",
        "outputId": "916aa635-765e-46a6-96bd-a18024f8b1fa"
      },
      "execution_count": null,
      "outputs": [
        {
          "output_type": "stream",
          "name": "stdout",
          "text": [
            "enter your age:55\n",
            "adult\n"
          ]
        }
      ]
    },
    {
      "cell_type": "code",
      "source": [
        "#loop to iterate through a list\n",
        "fruits = [\"apple\",\"banana\",\"cherry\"]\n",
        "\n",
        "for fruit in fruits:\n",
        "  print(\"i like\", fruit)"
      ],
      "metadata": {
        "colab": {
          "base_uri": "https://localhost:8080/"
        },
        "id": "yUeA9deINWCp",
        "outputId": "f22bb308-a518-4944-d910-cb4c2b12c6e3"
      },
      "execution_count": null,
      "outputs": [
        {
          "output_type": "stream",
          "name": "stdout",
          "text": [
            "i like apple\n",
            "i like banana\n",
            "i like cherry\n"
          ]
        }
      ]
    },
    {
      "cell_type": "code",
      "source": [
        "#while loop\n",
        "\n",
        "count = 0\n",
        "\n",
        "while count<5:\n",
        "  print(\"count is:\", count)\n",
        "  count+=1 #increment count by 1"
      ],
      "metadata": {
        "colab": {
          "base_uri": "https://localhost:8080/"
        },
        "id": "sZAdUhQ0NqEm",
        "outputId": "6d5ec1ca-92f2-4c7c-df0e-1e068df4cc10"
      },
      "execution_count": null,
      "outputs": [
        {
          "output_type": "stream",
          "name": "stdout",
          "text": [
            "count is: 0\n",
            "count is: 1\n",
            "count is: 2\n",
            "count is: 3\n",
            "count is: 4\n"
          ]
        }
      ]
    },
    {
      "cell_type": "code",
      "source": [
        "#break and continue\n",
        "for n in range(10):\n",
        "  if n ==5:\n",
        "    break\n",
        "  print(\"number is:\", n)"
      ],
      "metadata": {
        "colab": {
          "base_uri": "https://localhost:8080/"
        },
        "id": "jdUatcIYN1AP",
        "outputId": "9cfaa835-5cf3-46c3-ac6d-c066b23c12c0"
      },
      "execution_count": null,
      "outputs": [
        {
          "output_type": "stream",
          "name": "stdout",
          "text": [
            "number is: 0\n",
            "number is: 1\n",
            "number is: 2\n",
            "number is: 3\n",
            "number is: 4\n"
          ]
        }
      ]
    },
    {
      "cell_type": "code",
      "source": [
        "for n in range(10):\n",
        "  if n%2==0:\n",
        "    continue\n",
        "  print(\"number is:\", n)"
      ],
      "metadata": {
        "colab": {
          "base_uri": "https://localhost:8080/"
        },
        "id": "m2fis-bxP97d",
        "outputId": "19add240-1314-4397-95c7-293732e3fd22"
      },
      "execution_count": null,
      "outputs": [
        {
          "output_type": "stream",
          "name": "stdout",
          "text": [
            "number is: 1\n",
            "number is: 3\n",
            "number is: 5\n",
            "number is: 7\n",
            "number is: 9\n"
          ]
        }
      ]
    },
    {
      "cell_type": "code",
      "source": [
        "#function\n",
        "def greet(name):\n",
        "  print('hello', name)\n",
        "\n",
        "greet(str(input('enter name')))\n"
      ],
      "metadata": {
        "colab": {
          "base_uri": "https://localhost:8080/"
        },
        "id": "z171Ihf0QGvc",
        "outputId": "d7391e6c-04cb-455a-b604-90e19df22277"
      },
      "execution_count": null,
      "outputs": [
        {
          "output_type": "stream",
          "name": "stdout",
          "text": [
            "enter namenn\n",
            "hello nn\n"
          ]
        }
      ]
    },
    {
      "cell_type": "code",
      "source": [
        "#funct with return value\n",
        "\n",
        "def add(a, b):\n",
        "  return a+b\n",
        "\n",
        "result = add(5,6)\n",
        "print('the sum is:',result)"
      ],
      "metadata": {
        "colab": {
          "base_uri": "https://localhost:8080/"
        },
        "id": "DnaF6weYQURK",
        "outputId": "604212f4-3f88-44b3-f8c1-e3d2ff5b47ba"
      },
      "execution_count": null,
      "outputs": [
        {
          "output_type": "stream",
          "name": "stdout",
          "text": [
            "the sum is: 11\n"
          ]
        }
      ]
    },
    {
      "cell_type": "code",
      "source": [
        "#lambda function\n",
        "\n",
        "add = lambda x,y: x+y\n",
        "result=add(5,4)\n",
        "print(result)\n",
        "\n",
        "sqr=list(map(lambda x: x**2, [1,2,3,4,5])) # The map() function executes a specified function for each item in an iterable. The item is sent to the function as a parameter.\n",
        "print(sqr)"
      ],
      "metadata": {
        "colab": {
          "base_uri": "https://localhost:8080/"
        },
        "id": "V0RsMxsPRJbt",
        "outputId": "fdcfbb2f-404e-404a-f6c4-9f0585287bf8"
      },
      "execution_count": null,
      "outputs": [
        {
          "output_type": "stream",
          "name": "stdout",
          "text": [
            "9\n",
            "[1, 4, 9, 16, 25]\n"
          ]
        }
      ]
    },
    {
      "cell_type": "code",
      "source": [
        "#data structures\n",
        "#lists\n",
        "\n",
        "fruits = ['a','b','c']\n",
        "print(fruits[0])\n",
        "\n",
        "fruits.append('p')\n",
        "print(fruits)"
      ],
      "metadata": {
        "colab": {
          "base_uri": "https://localhost:8080/"
        },
        "id": "ncfa1VNgWXt7",
        "outputId": "34928336-fbbe-42ec-8042-6e9a0f3cb3d6"
      },
      "execution_count": null,
      "outputs": [
        {
          "output_type": "stream",
          "name": "stdout",
          "text": [
            "a\n",
            "['a', 'b', 'c', 'p']\n"
          ]
        }
      ]
    },
    {
      "cell_type": "code",
      "source": [
        "#tuples\n",
        "coord=(3,4)\n",
        "print(coord[0])\n",
        "\n",
        "#python index starts from 0"
      ],
      "metadata": {
        "colab": {
          "base_uri": "https://localhost:8080/"
        },
        "id": "zWgvdkmyWy54",
        "outputId": "7fc498c4-1149-4009-b50f-1de2f96edf7f"
      },
      "execution_count": null,
      "outputs": [
        {
          "output_type": "stream",
          "name": "stdout",
          "text": [
            "3\n"
          ]
        }
      ]
    },
    {
      "cell_type": "code",
      "source": [
        "#sets\n",
        "num={1,2,3,2,1}\n",
        "print(num)"
      ],
      "metadata": {
        "colab": {
          "base_uri": "https://localhost:8080/"
        },
        "id": "c_ay4Kk9W8jk",
        "outputId": "cb5b7ba9-90a7-409b-adb1-c9586a0dfcf6"
      },
      "execution_count": null,
      "outputs": [
        {
          "output_type": "stream",
          "name": "stdout",
          "text": [
            "{1, 2, 3}\n"
          ]
        }
      ]
    },
    {
      "cell_type": "code",
      "source": [
        "#dictionary\n",
        "student={\n",
        "    \"name\":\"alice\",\n",
        "    \"age\":21,\n",
        "    \"is_student\":True\n",
        "}\n",
        "\n",
        "print('name',student['name'])"
      ],
      "metadata": {
        "colab": {
          "base_uri": "https://localhost:8080/"
        },
        "id": "JcObaUgoXFXq",
        "outputId": "13b78004-2a60-4b68-ef26-8d572ff690b1"
      },
      "execution_count": null,
      "outputs": [
        {
          "output_type": "stream",
          "name": "stdout",
          "text": [
            "name alice\n"
          ]
        }
      ]
    },
    {
      "cell_type": "code",
      "source": [
        "#oop\n",
        "class Dog:\n",
        "  def __init__(self, name, age):\n",
        "    self.name=name #atrr\n",
        "    self.age=age\n",
        "\n",
        "  def bark(self): #method\n",
        "    print('woof, my name is', self.name)\n",
        "\n",
        "#create obj\n",
        "dog1=Dog('bud',5)\n",
        "\n",
        "print(dog1.name)\n",
        "dog1.bark()"
      ],
      "metadata": {
        "colab": {
          "base_uri": "https://localhost:8080/"
        },
        "id": "GJ2Y6sMdXZKI",
        "outputId": "542d2268-9a96-441f-90e6-51319a4977e4"
      },
      "execution_count": null,
      "outputs": [
        {
          "output_type": "stream",
          "name": "stdout",
          "text": [
            "bud\n",
            "woof, my name is bud\n"
          ]
        }
      ]
    },
    {
      "cell_type": "code",
      "source": [
        "# Defining a parent class\n",
        "class Animal:\n",
        "    def speak(self):\n",
        "        print(\"Animal speaks\")\n",
        "\n",
        "# Defining a child class that inherits from Animal\n",
        "class Cat(Animal):\n",
        "    def meow(self):\n",
        "        print(\"Meow!\")\n",
        "\n",
        "# Creating an object of the child class\n",
        "my_cat = Cat()\n",
        "my_cat.speak()  # Output: Animal speaks\n",
        "my_cat.meow()   # Output: Meow!"
      ],
      "metadata": {
        "colab": {
          "base_uri": "https://localhost:8080/"
        },
        "id": "iMxKD5o6bw3g",
        "outputId": "d4d0f200-015f-49fb-bde6-9a5c16c4f7dc"
      },
      "execution_count": null,
      "outputs": [
        {
          "output_type": "stream",
          "name": "stdout",
          "text": [
            "Animal speaks\n",
            "Meow!\n"
          ]
        }
      ]
    },
    {
      "cell_type": "code",
      "source": [
        "# Defining a class with encapsulation\n",
        "class BankAccount:\n",
        "    def __init__(self, owner, balance=0):\n",
        "        self.owner = owner          # Public attribute\n",
        "        self.__balance = balance    # Private attribute\n",
        "\n",
        "    def deposit(self, amount):\n",
        "        if amount > 0:\n",
        "            self.__balance += amount\n",
        "\n",
        "    def withdraw(self, amount):\n",
        "        if amount > 0 and amount <= self.__balance:\n",
        "            self.__balance -= amount\n",
        "\n",
        "    def get_balance(self):  # Public method to access private balance\n",
        "        return self.__balance\n",
        "\n",
        "# Creating an object\n",
        "my_account = BankAccount(\"Alice\", 1000)\n",
        "\n",
        "# Accessing public attributes and methods\n",
        "print(\"Account owner:\", my_account.owner)\n",
        "my_account.deposit(500)\n",
        "print(\"Balance after deposit:\", my_account.get_balance())  # Output: 1500\n",
        "my_account.withdraw(200)\n",
        "print(\"Balance after withdrawal:\", my_account.get_balance())  # Output: 1300"
      ],
      "metadata": {
        "colab": {
          "base_uri": "https://localhost:8080/"
        },
        "id": "f9zf0F3gb-mO",
        "outputId": "def90962-880a-4513-d8f4-f7de7b0f8edf"
      },
      "execution_count": null,
      "outputs": [
        {
          "output_type": "stream",
          "name": "stdout",
          "text": [
            "Account owner: Alice\n",
            "Balance after deposit: 1500\n",
            "Balance after withdrawal: 1300\n"
          ]
        }
      ]
    },
    {
      "cell_type": "code",
      "source": [
        "# Parent class (doesnt need init as we are not storing any attributes)\n",
        "class Bird:\n",
        "    def fly(self):\n",
        "        print(\"Bird can fly\")\n",
        "\n",
        "# Child class overriding the fly method\n",
        "class Penguin(Bird):\n",
        "    def fly(self):  # Overriding\n",
        "        print(\"Penguins can't fly\")\n",
        "\n",
        "# Creating objects\n",
        "sparrow = Bird()\n",
        "penguin = Penguin()\n",
        "\n",
        "# Calling the fly method\n",
        "sparrow.fly()   # Output: Bird can fly\n",
        "penguin.fly()   # Output: Penguins can't fly"
      ],
      "metadata": {
        "colab": {
          "base_uri": "https://localhost:8080/"
        },
        "id": "dm7HY-FAched",
        "outputId": "26908553-4a72-4323-ebd8-92c19840d3a9"
      },
      "execution_count": null,
      "outputs": [
        {
          "output_type": "stream",
          "name": "stdout",
          "text": [
            "Bird can fly\n",
            "Penguins can't fly\n"
          ]
        }
      ]
    },
    {
      "cell_type": "code",
      "source": [
        "#creating modules and packages\n",
        "\n",
        "from utilities import math_operations, strings\n",
        "\n",
        "print(math_operations.add(5,3))\n",
        "\n",
        "result3 = strings.concatenate(\"Hello\", \"world\")\n",
        "print(\"Concatenated string:\", result3)  # Output: Hello world"
      ],
      "metadata": {
        "colab": {
          "base_uri": "https://localhost:8080/"
        },
        "id": "zXNsD3tFcnMy",
        "outputId": "bca78667-dd09-42ae-af2f-96fab8bf92b7"
      },
      "execution_count": null,
      "outputs": [
        {
          "output_type": "stream",
          "name": "stdout",
          "text": [
            "8\n",
            "Concatenated string: Hello world\n"
          ]
        }
      ]
    },
    {
      "cell_type": "code",
      "source": [
        "#file handling\n",
        "file = open(\"sample.txt\",\"r\")\n",
        "\n",
        "content = file.read()\n",
        "\n",
        "print(content)\n",
        "\n",
        "file.close"
      ],
      "metadata": {
        "id": "QLZR_frNymrI",
        "colab": {
          "base_uri": "https://localhost:8080/"
        },
        "outputId": "fb594aa5-298c-4a68-b7b2-795caae7150a"
      },
      "execution_count": null,
      "outputs": [
        {
          "output_type": "stream",
          "name": "stdout",
          "text": [
            "\n"
          ]
        },
        {
          "output_type": "execute_result",
          "data": {
            "text/plain": [
              "<function TextIOWrapper.close()>"
            ]
          },
          "metadata": {},
          "execution_count": 3
        }
      ]
    },
    {
      "cell_type": "code",
      "source": [
        "file =open('sample.txt','w')\n",
        "file.write('hhhhh \\n')\n",
        "file.close()"
      ],
      "metadata": {
        "id": "leqdyKh1rrTz"
      },
      "execution_count": null,
      "outputs": []
    },
    {
      "cell_type": "code",
      "source": [
        "#file handling\n",
        "file = open(\"sample.txt\",\"r\")\n",
        "\n",
        "content = file.read()\n",
        "\n",
        "print(content)\n",
        "\n",
        "file.close"
      ],
      "metadata": {
        "colab": {
          "base_uri": "https://localhost:8080/"
        },
        "id": "RosrfqCs2FWB",
        "outputId": "a1ec34ef-3115-453c-a917-2f5b2f02375d"
      },
      "execution_count": null,
      "outputs": [
        {
          "output_type": "stream",
          "name": "stdout",
          "text": [
            "hhhhh \n",
            "\n"
          ]
        },
        {
          "output_type": "execute_result",
          "data": {
            "text/plain": [
              "<function TextIOWrapper.close()>"
            ]
          },
          "metadata": {},
          "execution_count": 25
        }
      ]
    },
    {
      "cell_type": "code",
      "source": [
        "with open('sample.txt','a') as file:\n",
        "  file.write('\\n using with\\n')\n",
        "\n",
        "with open('sample.txt','r') as file:\n",
        "  content = file.read()\n",
        "  print(content)\n",
        "\n",
        "'''\n",
        "\"r\" – Read mode (default).\n",
        "\"w\" – Write mode (overwrites file).\n",
        "\"a\" – Append mode (adds content to the end of the file).\n",
        "\"r+\" – Read and write mode.\n",
        "'''"
      ],
      "metadata": {
        "colab": {
          "base_uri": "https://localhost:8080/",
          "height": 163
        },
        "id": "5N37gOp72UYF",
        "outputId": "e0bcff85-89b4-4197-d367-5116862f7a08"
      },
      "execution_count": null,
      "outputs": [
        {
          "output_type": "stream",
          "name": "stdout",
          "text": [
            "hhhhh \n",
            "\n",
            " using with\n",
            "\n",
            " using with\n",
            "\n"
          ]
        },
        {
          "output_type": "execute_result",
          "data": {
            "text/plain": [
              "'\\n\"r\" – Read mode (default).\\n\"w\" – Write mode (overwrites file).\\n\"a\" – Append mode (adds content to the end of the file).\\n\"r+\" – Read and write mode.\\n'"
            ],
            "application/vnd.google.colaboratory.intrinsic+json": {
              "type": "string"
            }
          },
          "metadata": {},
          "execution_count": 27
        }
      ]
    },
    {
      "cell_type": "code",
      "source": [
        "#error handling\n",
        "\n",
        "try:\n",
        "  result=10/0\n",
        "except ZeroDivisionError:\n",
        "  print('not allowed')"
      ],
      "metadata": {
        "colab": {
          "base_uri": "https://localhost:8080/"
        },
        "id": "VTsfr-T12q4C",
        "outputId": "86e4342c-9bc2-4bfa-c8d1-d210ee93e06e"
      },
      "execution_count": null,
      "outputs": [
        {
          "output_type": "stream",
          "name": "stdout",
          "text": [
            "not allowed\n"
          ]
        }
      ]
    },
    {
      "cell_type": "code",
      "source": [
        "try:\n",
        "  result = 10/2\n",
        "except ZeroDivisionError:\n",
        "  print('not allowed')\n",
        "else:\n",
        "  print('success')\n",
        "finally:\n",
        "  print('always run')"
      ],
      "metadata": {
        "colab": {
          "base_uri": "https://localhost:8080/"
        },
        "id": "VvohKbHo3r89",
        "outputId": "62b1de63-5749-47f7-df32-e295270ded1e"
      },
      "execution_count": null,
      "outputs": [
        {
          "output_type": "stream",
          "name": "stdout",
          "text": [
            "success\n",
            "always run\n"
          ]
        }
      ]
    },
    {
      "cell_type": "code",
      "source": [
        "try:\n",
        "  value=int(input())\n",
        "  result=10/value\n",
        "\n",
        "except ValueError:\n",
        "  print('error')\n",
        "\n",
        "except ZeroDivisionError:\n",
        "  print(\"error\")"
      ],
      "metadata": {
        "colab": {
          "base_uri": "https://localhost:8080/"
        },
        "id": "2hjBZqtk4Ale",
        "outputId": "ee7ebad3-36bf-44f6-8087-43effa246ffd"
      },
      "execution_count": null,
      "outputs": [
        {
          "output_type": "stream",
          "name": "stdout",
          "text": [
            "0\n",
            "error\n"
          ]
        }
      ]
    },
    {
      "cell_type": "code",
      "source": [
        "#regex\n",
        "import re\n",
        "pattern= r\"hello\"\n",
        "text= \"hello world\"\n",
        "match = re.match(pattern ,text)\n",
        "\n",
        "if match:\n",
        "  print(\"match\", match.group())\n",
        "\n",
        "else:\n",
        "  print('no match found')"
      ],
      "metadata": {
        "colab": {
          "base_uri": "https://localhost:8080/"
        },
        "id": "koGznBLN4TUx",
        "outputId": "c4150434-a56d-432c-ef48-2ce0f76c463c"
      },
      "execution_count": null,
      "outputs": [
        {
          "output_type": "stream",
          "name": "stdout",
          "text": [
            "match hello\n"
          ]
        }
      ]
    },
    {
      "cell_type": "code",
      "source": [
        "#regex\n",
        "import re\n",
        "pattern= r\"hello\"\n",
        "text= \"hello world\"\n",
        "match = re.search(pattern ,text)\n",
        "\n",
        "if match:\n",
        "  print(\"match\", match.group())\n",
        "\n",
        "else:\n",
        "  print('no match found')"
      ],
      "metadata": {
        "colab": {
          "base_uri": "https://localhost:8080/"
        },
        "id": "aXl7hFkB5PLj",
        "outputId": "d99fba2e-77a8-4645-f9b6-a7d26ee28b7f"
      },
      "execution_count": null,
      "outputs": [
        {
          "output_type": "stream",
          "name": "stdout",
          "text": [
            "match hello\n"
          ]
        }
      ]
    },
    {
      "cell_type": "code",
      "source": [
        "#regex\n",
        "import re\n",
        "pattern= r\"hello\"\n",
        "text= \"hello world\"\n",
        "match = re.findall(pattern ,text)\n",
        "\n",
        "if match:\n",
        "  print(\"match\", match)\n",
        "\n",
        "else:\n",
        "  print('no match found')"
      ],
      "metadata": {
        "colab": {
          "base_uri": "https://localhost:8080/"
        },
        "id": "WHecKWZs5VAN",
        "outputId": "9fde01e4-6c94-43f9-9c24-27de357fb11c"
      },
      "execution_count": null,
      "outputs": [
        {
          "output_type": "stream",
          "name": "stdout",
          "text": [
            "match ['hello']\n"
          ]
        }
      ]
    },
    {
      "cell_type": "code",
      "source": [
        "#regex\n",
        "import re\n",
        "pattern= r\"hello\"\n",
        "text= \"hello world\"\n",
        "match = re.sub(pattern , 'tt' ,text)\n",
        "\n",
        "if match:\n",
        "  print(\"match\", match)\n",
        "\n",
        "else:\n",
        "  print('no match found')"
      ],
      "metadata": {
        "colab": {
          "base_uri": "https://localhost:8080/"
        },
        "id": "gJB44cTx5ai7",
        "outputId": "19cf523b-9d81-4036-bdd0-7df943140f33"
      },
      "execution_count": null,
      "outputs": [
        {
          "output_type": "stream",
          "name": "stdout",
          "text": [
            "match tt world\n"
          ]
        }
      ]
    },
    {
      "cell_type": "code",
      "source": [
        "#iterator generator\n",
        "\n",
        "class Counter:\n",
        "  def __init__(self, start, end):\n",
        "    self.current = start\n",
        "    self.end = end\n",
        "\n",
        "  def __iter__(self):\n",
        "    return self\n",
        "\n",
        "  def __next__(self):\n",
        "     if self.current <=self.end:\n",
        "       value=self.current\n",
        "       self.current +=1\n",
        "       return value\n",
        "     else:\n",
        "       raise StopIteration\n",
        "\n",
        "counter = Counter(1,5)\n",
        "\n",
        "for number in counter:\n",
        " print(number)"
      ],
      "metadata": {
        "id": "Du8KMtUE5qAy",
        "colab": {
          "base_uri": "https://localhost:8080/"
        },
        "outputId": "5f823e81-8f16-44a4-c958-6093aa6bc65a"
      },
      "execution_count": 6,
      "outputs": [
        {
          "output_type": "stream",
          "name": "stdout",
          "text": [
            "1\n",
            "2\n",
            "3\n",
            "4\n",
            "5\n"
          ]
        }
      ]
    },
    {
      "cell_type": "code",
      "source": [
        "def gen():\n",
        "  yield 1\n",
        "  yield 2\n",
        "  yield 3\n",
        "\n",
        "gen = gen()\n",
        "for val in gen:\n",
        "  print(val)"
      ],
      "metadata": {
        "colab": {
          "base_uri": "https://localhost:8080/"
        },
        "id": "V50wzbqlAGzE",
        "outputId": "9dd1ac29-aaeb-4d1e-b7fe-f245c9441404"
      },
      "execution_count": 8,
      "outputs": [
        {
          "output_type": "stream",
          "name": "stdout",
          "text": [
            "1\n",
            "2\n",
            "3\n"
          ]
        }
      ]
    },
    {
      "cell_type": "code",
      "source": [
        "def gen2(start, end):\n",
        "  current=start\n",
        "  while current<=end:\n",
        "    yield current\n",
        "    current +=1\n",
        "\n",
        "for n in gen2(1,5):\n",
        "  print(n)"
      ],
      "metadata": {
        "colab": {
          "base_uri": "https://localhost:8080/"
        },
        "id": "LD9l5D3gBB5c",
        "outputId": "9a19174f-eba6-494e-b463-bed10ef61e14"
      },
      "execution_count": 9,
      "outputs": [
        {
          "output_type": "stream",
          "name": "stdout",
          "text": [
            "1\n",
            "2\n",
            "3\n",
            "4\n",
            "5\n"
          ]
        }
      ]
    },
    {
      "cell_type": "code",
      "source": [
        "#list comprehension\n",
        "\n",
        "numbers=[1,2,3,4,5,6,7,8,9,10]\n",
        "cube=[n**3 for n in numbers]\n",
        "print(cube)"
      ],
      "metadata": {
        "colab": {
          "base_uri": "https://localhost:8080/"
        },
        "id": "wdmnu5-hBfCS",
        "outputId": "37ab65ec-3de9-4c55-ca5d-937aa50d29a6"
      },
      "execution_count": 10,
      "outputs": [
        {
          "output_type": "stream",
          "name": "stdout",
          "text": [
            "[1, 8, 27, 64, 125, 216, 343, 512, 729, 1000]\n"
          ]
        }
      ]
    },
    {
      "cell_type": "code",
      "source": [
        "#decorators\n",
        "def dec(func):\n",
        "  def wrapper():\n",
        "    print(\"before\")\n",
        "    func()\n",
        "    print(\"after\")\n",
        "  return wrapper\n",
        "\n",
        "@dec #had to add this line\n",
        "def say():\n",
        "  print('hi')\n",
        "\n",
        "say()"
      ],
      "metadata": {
        "colab": {
          "base_uri": "https://localhost:8080/"
        },
        "id": "6p6XrngoCag5",
        "outputId": "3ffcd5a0-c100-42fe-bf4f-2ff61a135782"
      },
      "execution_count": 14,
      "outputs": [
        {
          "output_type": "stream",
          "name": "stdout",
          "text": [
            "before\n",
            "hi\n",
            "after\n"
          ]
        }
      ]
    },
    {
      "cell_type": "code",
      "source": [
        "#decorators\n",
        "def dec(func):\n",
        "  def wrapper(*args, **kwargs):\n",
        "    print(\"before\")\n",
        "    result= func(*args, **kwargs)\n",
        "    print(\"after\")\n",
        "    return result\n",
        "  return wrapper\n",
        "\n",
        "@dec #had to add this line\n",
        "def say(name):\n",
        "  print(f'hi,{name}') #had to add the f\n",
        "\n",
        "say('Pi')"
      ],
      "metadata": {
        "colab": {
          "base_uri": "https://localhost:8080/"
        },
        "id": "0TZxUAM9C59C",
        "outputId": "006f6155-6d2b-449c-fee9-46819737bf49"
      },
      "execution_count": 18,
      "outputs": [
        {
          "output_type": "stream",
          "name": "stdout",
          "text": [
            "before\n",
            "hi,Pi\n",
            "after\n"
          ]
        }
      ]
    },
    {
      "cell_type": "code",
      "source": [
        "#context managers\n",
        "with open('txt.txt','w') as file:\n",
        "  file.write('ho')\n"
      ],
      "metadata": {
        "id": "FkSUTDT6D45c"
      },
      "execution_count": 20,
      "outputs": []
    },
    {
      "cell_type": "code",
      "source": [
        "class MyContextManager:\n",
        "    def __enter__(self):\n",
        "        print(\"Entering the context\")\n",
        "        return self\n",
        "\n",
        "    def __exit__(self, exc_type, exc_value, traceback):\n",
        "        print(\"Exiting the context\")\n",
        "\n",
        "# Using the custom context manager\n",
        "with MyContextManager() as cm:\n",
        "    print(\"Inside the context\")\n",
        "\n",
        "# Output:\n",
        "# Entering the context\n",
        "# Inside the context\n",
        "# Exiting the context\n"
      ],
      "metadata": {
        "colab": {
          "base_uri": "https://localhost:8080/"
        },
        "id": "wtpvg_w5Enxk",
        "outputId": "feeef7b5-8be8-4acd-bb27-fac3465add15"
      },
      "execution_count": 21,
      "outputs": [
        {
          "output_type": "stream",
          "name": "stdout",
          "text": [
            "Entering the context\n",
            "Inside the context\n",
            "Exiting the context\n"
          ]
        }
      ]
    },
    {
      "cell_type": "code",
      "source": [
        "#algorithms and problem solving"
      ],
      "metadata": {
        "id": "xcvIkk59E7tg"
      },
      "execution_count": 22,
      "outputs": []
    },
    {
      "cell_type": "code",
      "source": [
        "#sorting\n",
        "def bub(arr):\n",
        "  n=len(arr)\n",
        "  for i in range(n):\n",
        "    for j in range(0,n-i-1):\n",
        "      if arr[j]>arr[j+1]:\n",
        "        arr[j],arr[j+1]=arr[j+1] ,arr[j]\n",
        "  return arr\n",
        "\n",
        "numbers = [64, 34, 25, 12, 22, 11, 90]\n",
        "sorted_numbers = bub(numbers)\n",
        "print(sorted_numbers)"
      ],
      "metadata": {
        "colab": {
          "base_uri": "https://localhost:8080/"
        },
        "id": "1BTDnP30FAc0",
        "outputId": "626b5680-dee0-44fa-cafd-192fef7c17dc"
      },
      "execution_count": 23,
      "outputs": [
        {
          "output_type": "stream",
          "name": "stdout",
          "text": [
            "[11, 12, 22, 25, 34, 64, 90]\n"
          ]
        }
      ]
    },
    {
      "cell_type": "code",
      "source": [
        "#merge sort"
      ],
      "metadata": {
        "id": "zHqZCVUyFeXD"
      },
      "execution_count": 24,
      "outputs": []
    },
    {
      "cell_type": "code",
      "source": [
        "def merge_sort(arr):\n",
        "    if len(arr) > 1:\n",
        "        mid = len(arr) // 2\n",
        "        left_half = arr[:mid]\n",
        "        right_half = arr[mid:]\n",
        "\n",
        "        # Recursively sort both halves\n",
        "        merge_sort(left_half)\n",
        "        merge_sort(right_half)\n",
        "\n",
        "        # Merge the sorted halves\n",
        "        i = j = k = 0\n",
        "\n",
        "        # Copy data to the original array\n",
        "        while i < len(left_half) and j < len(right_half):\n",
        "            if left_half[i] < right_half[j]:\n",
        "                arr[k] = left_half[i]\n",
        "                i += 1\n",
        "            else:\n",
        "                arr[k] = right_half[j]\n",
        "                j += 1\n",
        "            k += 1\n",
        "\n",
        "        # Check if any elements are left in the left half\n",
        "        while i < len(left_half):\n",
        "            arr[k] = left_half[i]\n",
        "            i += 1\n",
        "            k += 1\n",
        "\n",
        "        # Check if any elements are left in the right half\n",
        "        while j < len(right_half):\n",
        "            arr[k] = right_half[j]\n",
        "            j += 1\n",
        "            k += 1\n",
        "\n",
        "    return arr\n",
        "\n",
        "# Test the merge sort function\n",
        "numbers = [64, 34, 25, 12, 22, 11, 90]\n",
        "sorted_numbers = merge_sort(numbers)\n",
        "print(sorted_numbers)  # Output: [11, 12, 22, 25, 34, 64, 90]\n"
      ],
      "metadata": {
        "colab": {
          "base_uri": "https://localhost:8080/"
        },
        "id": "6Ri9d57UF5Bx",
        "outputId": "79868305-7e9f-40db-f800-491ecdd51703"
      },
      "execution_count": 25,
      "outputs": [
        {
          "output_type": "stream",
          "name": "stdout",
          "text": [
            "[11, 12, 22, 25, 34, 64, 90]\n"
          ]
        }
      ]
    },
    {
      "cell_type": "code",
      "source": [
        "#binary search\n",
        "def binsearch(arr, target):\n",
        "  low=0\n",
        "  high=len(arr)-1\n",
        "\n",
        "  while low<=high:\n",
        "    mid=(low+high)//2\n",
        "    if  arr[mid] == target:\n",
        "      return mid\n",
        "    elif arr[mid]<target:\n",
        "      low=mid+1\n",
        "    else:\n",
        "      high=mid-1\n",
        "\n",
        "  return -1 #not found\n",
        "\n",
        "sorted_numbers = [11, 12, 22, 25, 34, 64, 90]\n",
        "index = binsearch(sorted_numbers, 25)\n",
        "print(index+1)"
      ],
      "metadata": {
        "colab": {
          "base_uri": "https://localhost:8080/"
        },
        "id": "w5E65JQIF5TK",
        "outputId": "56f13be9-ba96-4378-b25a-fb7c5f8f5ae2"
      },
      "execution_count": 27,
      "outputs": [
        {
          "output_type": "stream",
          "name": "stdout",
          "text": [
            "4\n"
          ]
        }
      ]
    },
    {
      "cell_type": "code",
      "source": [
        "#recursion\n",
        "def fib(n):\n",
        "  if n==0:\n",
        "    return 0\n",
        "  elif n==1:\n",
        "    return 1\n",
        "  else: return fib(n-1)+fib(n-2)\n",
        "\n",
        "num=int(input('num range for fib'))\n",
        "numlist=[]\n",
        "n=0\n",
        "for n in range(0,num):\n",
        "  numlist.append(n)\n",
        "print(numlist)\n",
        "result=[fib(a) for a in numlist]\n",
        "print(result)"
      ],
      "metadata": {
        "colab": {
          "base_uri": "https://localhost:8080/"
        },
        "id": "VkQgkqmYLvRh",
        "outputId": "fb69a534-cf7e-4787-bed7-92c23f96120e"
      },
      "execution_count": 43,
      "outputs": [
        {
          "output_type": "stream",
          "name": "stdout",
          "text": [
            "num range for fib5\n",
            "[0, 1, 2, 3, 4]\n",
            "[0, 1, 1, 2, 3]\n"
          ]
        }
      ]
    },
    {
      "cell_type": "code",
      "source": [
        "#stack data structure:"
      ],
      "metadata": {
        "id": "FnBgFdF0MIWz"
      },
      "execution_count": 44,
      "outputs": []
    },
    {
      "cell_type": "code",
      "source": [
        "class Stack:\n",
        "    def __init__(self):\n",
        "        self.items = []  # Initialize an empty list to hold stack items\n",
        "\n",
        "    def push(self, item):\n",
        "        self.items.append(item)  # Add item to the top of the stack\n",
        "\n",
        "    def pop(self):\n",
        "        if not self.is_empty():\n",
        "            return self.items.pop()  # Remove and return the top item\n",
        "        raise IndexError(\"pop from an empty stack\")\n",
        "\n",
        "    def peek(self):\n",
        "        if not self.is_empty():\n",
        "            return self.items[-1]  # Return the top item without removing it\n",
        "        raise IndexError(\"peek from an empty stack\")\n",
        "\n",
        "    def is_empty(self):\n",
        "        return len(self.items) == 0  # Return True if stack is empty\n",
        "\n",
        "    def size(self):\n",
        "        return len(self.items)  # Return the number of items in the stack\n",
        "\n",
        "# Test the Stack implementation\n",
        "stack = Stack()\n",
        "stack.push(1)\n",
        "stack.push(2)\n",
        "stack.push(3)\n",
        "\n",
        "print(stack.peek())  # Output: 3 (top item)\n",
        "print(stack.pop())   # Output: 3 (remove top item)\n",
        "print(stack.size())  # Output: 2 (current size of the stack)\n"
      ],
      "metadata": {
        "colab": {
          "base_uri": "https://localhost:8080/"
        },
        "id": "Imtsf04lPdPg",
        "outputId": "c77163c8-6313-4f20-ffdd-dd164967662c"
      },
      "execution_count": 45,
      "outputs": [
        {
          "output_type": "stream",
          "name": "stdout",
          "text": [
            "3\n",
            "3\n",
            "2\n"
          ]
        }
      ]
    },
    {
      "cell_type": "code",
      "source": [
        "class Queue:\n",
        "    def __init__(self):\n",
        "        self.items = []  # Initialize an empty list to hold queue items\n",
        "\n",
        "    def enqueue(self, item):\n",
        "        self.items.append(item)  # Add item to the end of the queue\n",
        "\n",
        "    def dequeue(self):\n",
        "        if not self.is_empty():\n",
        "            return self.items.pop(0)  # Remove and return the front item\n",
        "        raise IndexError(\"dequeue from an empty queue\")\n",
        "\n",
        "    def peek(self):\n",
        "        if not self.is_empty():\n",
        "            return self.items[0]  # Return the front item without removing it\n",
        "        raise IndexError(\"peek from an empty queue\")\n",
        "\n",
        "    def is_empty(self):\n",
        "        return len(self.items) == 0  # Return True if queue is empty\n",
        "\n",
        "    def size(self):\n",
        "        return len(self.items)  # Return the number of items in the queue\n",
        "\n",
        "# Test the Queue implementation\n",
        "queue = Queue()\n",
        "queue.enqueue(1)\n",
        "queue.enqueue(2)\n",
        "queue.enqueue(3)\n",
        "\n",
        "print(queue.peek())  # Output: 1 (front item)\n",
        "print(queue.dequeue())  # Output: 1 (remove front item)\n",
        "print(queue.size())  # Output: 2 (current size of the queue)\n"
      ],
      "metadata": {
        "colab": {
          "base_uri": "https://localhost:8080/"
        },
        "id": "aZGVM5sjPe16",
        "outputId": "f7ead024-462a-4f77-d711-fbc9b6799da1"
      },
      "execution_count": 46,
      "outputs": [
        {
          "output_type": "stream",
          "name": "stdout",
          "text": [
            "1\n",
            "1\n",
            "2\n"
          ]
        }
      ]
    },
    {
      "cell_type": "code",
      "source": [
        "class Node:\n",
        "    def __init__(self, data):\n",
        "        self.data = data  # Initialize the node's data\n",
        "        self.next = None  # Initialize the next reference to None\n",
        "\n",
        "class LinkedList:\n",
        "    def __init__(self):\n",
        "        self.head = None  # Initialize the head of the list\n",
        "\n",
        "    def append(self, data):\n",
        "        new_node = Node(data)  # Create a new node\n",
        "        if not self.head:\n",
        "            self.head = new_node  # If the list is empty, make it the head\n",
        "            return\n",
        "        last_node = self.head\n",
        "        while last_node.next:  # Traverse to the end of the list\n",
        "            last_node = last_node.next\n",
        "        last_node.next = new_node  # Link the new node at the end\n",
        "\n",
        "    def display(self):\n",
        "        current = self.head\n",
        "        while current:  # Traverse and print the list\n",
        "            print(current.data, end=\" -> \")\n",
        "            current = current.next\n",
        "        print(\"None\")  # Indicate the end of the list\n",
        "\n",
        "# Test the Linked List implementation\n",
        "linked_list = LinkedList()\n",
        "linked_list.append(1)\n",
        "linked_list.append(2)\n",
        "linked_list.append(3)\n",
        "\n",
        "linked_list.display()  # Output: 1 -> 2 -> 3 -> None\n"
      ],
      "metadata": {
        "colab": {
          "base_uri": "https://localhost:8080/"
        },
        "id": "6_eHlyhgPzwj",
        "outputId": "0583aad5-acff-4475-ba36-8311a0f36a0f"
      },
      "execution_count": 47,
      "outputs": [
        {
          "output_type": "stream",
          "name": "stdout",
          "text": [
            "1 -> 2 -> 3 -> None\n"
          ]
        }
      ]
    },
    {
      "cell_type": "code",
      "source": [
        "class TreeNode:\n",
        "    def __init__(self, data):\n",
        "        self.data = data  # Initialize the node's data\n",
        "        self.left = None  # Initialize the left child\n",
        "        self.right = None  # Initialize the right child\n",
        "\n",
        "class BinaryTree:\n",
        "    def __init__(self):\n",
        "        self.root = None  # Initialize the root of the tree\n",
        "\n",
        "    def insert(self, data):\n",
        "        if not self.root:\n",
        "            self.root = TreeNode(data)  # Create the root node if empty\n",
        "        else:\n",
        "            self._insert_recursively(self.root, data)  # Insert recursively\n",
        "\n",
        "    def _insert_recursively(self, node, data):\n",
        "        if data < node.data:\n",
        "            if node.left is None:\n",
        "                node.left = TreeNode(data)  # Insert as left child\n",
        "            else:\n",
        "                self._insert_recursively(node.left, data)  # Go left\n",
        "        else:\n",
        "            if node.right is None:\n",
        "                node.right = TreeNode(data)  # Insert as right child\n",
        "            else:\n",
        "                self._insert_recursively(node.right, data)  # Go right\n",
        "\n",
        "    def inorder_traversal(self, node):\n",
        "        if node:\n",
        "            self.inorder_traversal(node.left)  # Traverse left subtree\n",
        "            print(node.data, end=\" \")  # Visit node\n",
        "            self.inorder_traversal(node.right)  # Traverse right subtree\n",
        "\n",
        "# Test the Binary Tree implementation\n",
        "binary_tree = BinaryTree()\n",
        "binary_tree.insert(10)\n",
        "binary_tree.insert(5)\n",
        "binary_tree.insert(15)\n",
        "\n",
        "print(\"In-order Traversal: \", end=\"\")\n",
        "binary_tree.inorder_traversal(binary_tree.root)  # Output: 5 10 15\n",
        "print()  # For new line\n"
      ],
      "metadata": {
        "colab": {
          "base_uri": "https://localhost:8080/"
        },
        "id": "_tV3zW8EP5UM",
        "outputId": "2a7272d6-1cda-4940-a24a-3bdb4db0ab8d"
      },
      "execution_count": 48,
      "outputs": [
        {
          "output_type": "stream",
          "name": "stdout",
          "text": [
            "In-order Traversal: 5 10 15 \n"
          ]
        }
      ]
    },
    {
      "cell_type": "code",
      "source": [
        "class BSTNode:\n",
        "    def __init__(self, data):\n",
        "        self.data = data\n",
        "        self.left = None\n",
        "        self.right = None\n",
        "\n",
        "class BinarySearchTree:\n",
        "    def __init__(self):\n",
        "        self.root = None\n",
        "\n",
        "    def insert(self, data):\n",
        "        if not self.root:\n",
        "            self.root = BSTNode(data)\n",
        "        else:\n",
        "            self._insert_recursively(self.root, data)\n",
        "\n",
        "    def _insert_recursively(self, node, data):\n",
        "        if data < node.data:\n",
        "            if node.left is None:\n",
        "                node.left = BSTNode(data)\n",
        "            else:\n",
        "                self._insert_recursively(node.left, data)\n",
        "        else:\n",
        "            if node.right is None:\n",
        "                node.right = BSTNode(data)\n",
        "            else:\n",
        "                self._insert_recursively(node.right, data)\n",
        "\n",
        "    def search(self, data):\n",
        "        return self._search_recursively(self.root, data)\n",
        "\n",
        "    def _search_recursively(self, node, data):\n",
        "        if node is None or node.data == data:\n",
        "            return node  # Node found or reached the end of the tree\n",
        "        if data < node.data:\n",
        "            return self._search_recursively(node.left, data)  # Search left\n",
        "        return self._search_recursively(node.right, data)  # Search right\n",
        "\n",
        "    def inorder_traversal(self, node):\n",
        "        if node:\n",
        "            self.inorder_traversal(node.left)\n",
        "            print(node.data, end=\" \")\n",
        "            self.inorder_traversal(node.right)\n",
        "\n",
        "# Test the Binary Search Tree implementation\n",
        "bst = BinarySearchTree()\n",
        "bst.insert(10)\n",
        "bst.insert(5)\n",
        "bst.insert(15)\n",
        "\n",
        "print(\"In-order Traversal: \", end=\"\")\n",
        "bst.inorder_traversal(bst.root)  # Output: 5 10 15\n",
        "print()\n",
        "\n",
        "# Searching for a value\n",
        "result = bst.search(5)\n",
        "if result:\n",
        "    print(f\"Value {result.data} found in the BST.\")\n",
        "else:\n",
        "    print(\"Value not found in the BST.\")\n"
      ],
      "metadata": {
        "colab": {
          "base_uri": "https://localhost:8080/"
        },
        "id": "BygyTnVOQByf",
        "outputId": "219a8f5c-1c5b-4332-cfd5-70fcedcfcec0"
      },
      "execution_count": 49,
      "outputs": [
        {
          "output_type": "stream",
          "name": "stdout",
          "text": [
            "In-order Traversal: 5 10 15 \n",
            "Value 5 found in the BST.\n"
          ]
        }
      ]
    },
    {
      "cell_type": "code",
      "source": [
        "#algo for PS"
      ],
      "metadata": {
        "id": "10H_YvssQK7A"
      },
      "execution_count": 50,
      "outputs": []
    },
    {
      "cell_type": "code",
      "source": [
        "def quick_sort(arr):\n",
        "    if len(arr) <= 1:\n",
        "        return arr\n",
        "    pivot = arr[len(arr) // 2]  # Choose a pivot\n",
        "    left = [x for x in arr if x < pivot]  # Elements less than pivot\n",
        "    middle = [x for x in arr if x == pivot]  # Elements equal to pivot\n",
        "    right = [x for x in arr if x > pivot]  # Elements greater than pivot\n",
        "    return quick_sort(left) + middle + quick_sort(right)\n",
        "\n",
        "# Test Quick Sort\n",
        "arr = [64, 34, 25, 12, 22, 11, 90]\n",
        "sorted_arr = quick_sort(arr)\n",
        "print(\"Sorted array (Quick Sort):\", sorted_arr)\n"
      ],
      "metadata": {
        "colab": {
          "base_uri": "https://localhost:8080/"
        },
        "id": "objiv8VlQWN8",
        "outputId": "ab8e5b99-9e6d-4ef8-c58f-614f7e83dd7a"
      },
      "execution_count": 51,
      "outputs": [
        {
          "output_type": "stream",
          "name": "stdout",
          "text": [
            "Sorted array (Quick Sort): [11, 12, 22, 25, 34, 64, 90]\n"
          ]
        }
      ]
    },
    {
      "cell_type": "code",
      "source": [],
      "metadata": {
        "id": "ydcvFUeqQWqW"
      },
      "execution_count": null,
      "outputs": []
    }
  ]
}